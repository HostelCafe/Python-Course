{
 "cells": [
  {
   "cell_type": "markdown",
   "metadata": {},
   "source": [
    "# Constructors in Python"
   ]
  },
  {
   "cell_type": "markdown",
   "metadata": {},
   "source": [
    "- Class functions that begins with double underscore **(__)** are called special functions as they have special meaning.\n",
    "\n",
    "- Of one particular interest is the \n",
    "          __init__() \n",
    "function. This special function gets called whenever a new object of that class is instantiated.\n",
    "\n",
    "- This type of function is also called constructors in Object Oriented Programming (OOP). We normally use it to **initialize** all the variables.\n",
    "\n",
    "\n",
    "## Example: \n"
   ]
  },
  {
   "cell_type": "code",
   "execution_count": 13,
   "metadata": {
    "collapsed": true
   },
   "outputs": [],
   "source": [
    "class Bird():\n",
    "    def __init__(self):\n",
    "        self.x = 0\n",
    "        self.y = 0\n",
    "    def fly_up(self):\n",
    "        self.y += 1"
   ]
  },
  {
   "cell_type": "code",
   "execution_count": 17,
   "metadata": {
    "collapsed": false
   },
   "outputs": [
    {
     "name": "stdout",
     "output_type": "stream",
     "text": [
      "0 0\n",
      "0 1\n"
     ]
    }
   ],
   "source": [
    "bird1 = Bird()\n",
    "\n",
    "print(bird1.x , bird1.y)\n",
    "\n",
    "bird1.fly_up()\n",
    "\n",
    "print(bird1.x , bird1.y)\n"
   ]
  },
  {
   "cell_type": "code",
   "execution_count": 21,
   "metadata": {
    "collapsed": false
   },
   "outputs": [
    {
     "name": "stdout",
     "output_type": "stream",
     "text": [
      "<__main__.Bird object at 0x7f6a4037db00>\n",
      "<__main__.Bird object at 0x7f6a4037da20>\n",
      "<__main__.Bird object at 0x7f6a4037da58>\n"
     ]
    }
   ],
   "source": [
    "# Making multiple objects from a class\n",
    "class Bird():\n",
    "    def __init__(self):\n",
    "        self.x = 0\n",
    "        self.y = 0\n",
    "    def fly_up(self):\n",
    "        self.y += 1\n",
    "\n",
    "birds = [Bird() for x in range(0,3)]\n",
    "for i in birds:\n",
    "    print(i)"
   ]
  },
  {
   "cell_type": "markdown",
   "metadata": {},
   "source": [
    "## Refining the Bird class"
   ]
  },
  {
   "cell_type": "markdown",
   "metadata": {},
   "source": [
    "### Accepting paremeters for the  __init__() method"
   ]
  },
  {
   "cell_type": "code",
   "execution_count": 22,
   "metadata": {
    "collapsed": false
   },
   "outputs": [
    {
     "name": "stdout",
     "output_type": "stream",
     "text": [
      "10 20\n",
      "10 21\n"
     ]
    }
   ],
   "source": [
    "class Bird():\n",
    "    def __init__(self,x=0,y=0):\n",
    "        #Each bird has position (x,y)\n",
    "        self.x = x\n",
    "        self.y = y\n",
    "    def fly_up(self):\n",
    "        self.y += 1\n",
    "        \n",
    "        \n",
    "bird1 = Bird(10,20)\n",
    "print(bird1.x , bird1.y)\n",
    "bird1.fly_up()\n",
    "print(bird1.x , bird1.y)"
   ]
  },
  {
   "cell_type": "code",
   "execution_count": 26,
   "metadata": {
    "collapsed": false
   },
   "outputs": [
    {
     "name": "stdout",
     "output_type": "stream",
     "text": [
      "Bird 0 is flying at position: (0,0)\n",
      "Bird 1 is flying at position: (10,20)\n",
      "Bird 2 is flying at position: (15,22)\n"
     ]
    }
   ],
   "source": [
    "class Bird():\n",
    "    def __init__(self,x=0,y=0):\n",
    "        #Each bird has position (x,y)\n",
    "        self.x = x\n",
    "        self.y = y\n",
    "    def fly_up(self):\n",
    "        self.y += 1\n",
    "        \n",
    "# Making Group of birds\n",
    "birds = []\n",
    "birds.append(Bird())\n",
    "birds.append(Bird(10,20))\n",
    "birds.append(Bird(15,22)) \n",
    "\n",
    "# Printing position of each bird\n",
    "for index,obj in enumerate (birds):\n",
    "    print(\"Bird {} is flying at position: ({},{})\".format(index,obj.x,obj.y))"
   ]
  },
  {
   "cell_type": "markdown",
   "metadata": {},
   "source": [
    "### Accepting paremeters in a method"
   ]
  },
  {
   "cell_type": "code",
   "execution_count": 30,
   "metadata": {
    "collapsed": false
   },
   "outputs": [
    {
     "name": "stdout",
     "output_type": "stream",
     "text": [
      "Bird 0 is flying at position: (0,0)\n",
      "Bird 1 is flying at position: (10,20)\n",
      "Bird 2 is flying at position: (15,22)\n",
      "Updated Positions Are:\n",
      "Bird 0 is flying at position: (5,2)\n",
      "Bird 1 is flying at position: (14,25)\n",
      "Bird 2 is flying at position: (18,30)\n"
     ]
    }
   ],
   "source": [
    "class Bird():\n",
    "    def __init__(self,x=0,y=0):\n",
    "        #Each bird has position (x,y)\n",
    "        self.x = x\n",
    "        self.y = y\n",
    "    def fly(self,x_increment =0,y_increment =0):\n",
    "        self.x += x_increment\n",
    "        self.y += y_increment\n",
    "             \n",
    "# Making Group of birds\n",
    "birds = []\n",
    "birds.append(Bird())\n",
    "birds.append(Bird(10,20))\n",
    "birds.append(Bird(15,22)) \n",
    "\n",
    "# Printing position of each bird\n",
    "for index,obj in enumerate (birds):\n",
    "    print(\"Bird {} is flying at position: ({},{})\".format(index,obj.x,obj.y))\n",
    "\n",
    "# Moving Birds\n",
    "birds[0].fly(5,2)\n",
    "birds[1].fly(4,5)\n",
    "birds[2].fly(3,8)\n",
    "\n",
    "# Printing updated position of each bird\n",
    "print(\"Updated Positions Are:\")\n",
    "for index,obj in enumerate (birds):\n",
    "    print(\"Bird {} is flying at position: ({},{})\".format(index,obj.x,obj.y))"
   ]
  },
  {
   "cell_type": "markdown",
   "metadata": {},
   "source": [
    "### Adding a new method\n"
   ]
  },
  {
   "cell_type": "markdown",
   "metadata": {},
   "source": [
    "##### New method performs that calculation, and then returns the resulting distance."
   ]
  },
  {
   "cell_type": "code",
   "execution_count": 38,
   "metadata": {
    "collapsed": false
   },
   "outputs": [
    {
     "name": "stdout",
     "output_type": "stream",
     "text": [
      "Distance between two birds is:  40.311288741492746\n"
     ]
    }
   ],
   "source": [
    "from math import sqrt\n",
    "class Bird():\n",
    "    def __init__(self,x=0,y=0):\n",
    "        #Each bird has position (x,y)\n",
    "        self.x = x\n",
    "        self.y = y\n",
    "    def fly(self,x_increment =0,y_increment =0):\n",
    "        self.x += x_increment\n",
    "        self.y += y_increment\n",
    "    def get_distance(self, other_bird):\n",
    "        # Calculates the distance from this bird to another bird,\n",
    "        #  and returns that value.\n",
    "        distance = sqrt((self.x-other_bird.x)**2+(self.y-other_bird.y)**2)\n",
    "        return distance\n",
    "    \n",
    "# create two bird at different place\n",
    "bird1 = Bird(10,20)\n",
    "bird2 = Bird(50,25)\n",
    "\n",
    "# show distance between them\n",
    "distance = bird1.get_distance(bird2)\n",
    "print(\"Distance between two birds is: \",distance)"
   ]
  },
  {
   "cell_type": "markdown",
   "metadata": {},
   "source": [
    "# Descructor"
   ]
  },
  {
   "cell_type": "markdown",
   "metadata": {},
   "source": [
    "#### The destructor is defined using \n",
    "             __del__(self)."
   ]
  },
  {
   "cell_type": "code",
   "execution_count": 1,
   "metadata": {
    "collapsed": true
   },
   "outputs": [],
   "source": [
    "class TestClass:\n",
    "    \n",
    "    def __init__(self):\n",
    "        print (\"constructor\")\n",
    "\n",
    "    def __del__(self):\n",
    "        print (\"destructor\")"
   ]
  },
  {
   "cell_type": "code",
   "execution_count": 10,
   "metadata": {
    "collapsed": false
   },
   "outputs": [
    {
     "name": "stdout",
     "output_type": "stream",
     "text": [
      "constructor\n",
      "destructor\n"
     ]
    }
   ],
   "source": [
    "obj = TestClass()"
   ]
  },
  {
   "cell_type": "code",
   "execution_count": 9,
   "metadata": {
    "collapsed": false
   },
   "outputs": [
    {
     "name": "stdout",
     "output_type": "stream",
     "text": [
      "<__main__.TestClass object at 0x7f6a403fdb70>\n"
     ]
    }
   ],
   "source": [
    "print(obj)"
   ]
  },
  {
   "cell_type": "code",
   "execution_count": 11,
   "metadata": {
    "collapsed": false
   },
   "outputs": [
    {
     "name": "stdout",
     "output_type": "stream",
     "text": [
      "destructor\n"
     ]
    }
   ],
   "source": [
    "del obj"
   ]
  },
  {
   "cell_type": "code",
   "execution_count": 12,
   "metadata": {
    "collapsed": false
   },
   "outputs": [
    {
     "ename": "NameError",
     "evalue": "name 'obj' is not defined",
     "output_type": "error",
     "traceback": [
      "\u001b[0;31m---------------------------------------------------------------------------\u001b[0m",
      "\u001b[0;31mNameError\u001b[0m                                 Traceback (most recent call last)",
      "\u001b[0;32m<ipython-input-12-139c6c212d9f>\u001b[0m in \u001b[0;36m<module>\u001b[0;34m()\u001b[0m\n\u001b[0;32m----> 1\u001b[0;31m \u001b[0mobj\u001b[0m\u001b[0;34m\u001b[0m\u001b[0m\n\u001b[0m",
      "\u001b[0;31mNameError\u001b[0m: name 'obj' is not defined"
     ]
    }
   ],
   "source": [
    "obj  #shows error since obj is deleted"
   ]
  },
  {
   "cell_type": "code",
   "execution_count": null,
   "metadata": {
    "collapsed": true
   },
   "outputs": [],
   "source": []
  }
 ],
 "metadata": {
  "kernelspec": {
   "display_name": "Python [default]",
   "language": "python",
   "name": "python3"
  },
  "language_info": {
   "codemirror_mode": {
    "name": "ipython",
    "version": 3
   },
   "file_extension": ".py",
   "mimetype": "text/x-python",
   "name": "python",
   "nbconvert_exporter": "python",
   "pygments_lexer": "ipython3",
   "version": "3.5.2"
  }
 },
 "nbformat": 4,
 "nbformat_minor": 1
}
