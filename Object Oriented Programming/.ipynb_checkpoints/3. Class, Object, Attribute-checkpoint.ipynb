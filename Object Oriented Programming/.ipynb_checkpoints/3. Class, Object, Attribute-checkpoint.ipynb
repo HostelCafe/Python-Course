{
 "cells": [
  {
   "cell_type": "markdown",
   "metadata": {},
   "source": [
    "# Defining a Class in Python"
   ]
  },
  {
   "cell_type": "markdown",
   "metadata": {},
   "source": [
    "- Like function definitions begin with the keyword def, in Python, we define a class using the keyword class.\n",
    "\n",
    "- The first string is called docstring and has a brief description about the class. Although not mandatory, this is recommended.\n",
    "\n",
    "#### Example:"
   ]
  },
  {
   "cell_type": "code",
   "execution_count": 1,
   "metadata": {
    "collapsed": true
   },
   "outputs": [],
   "source": [
    "class MyNewClass:\n",
    "    '''This is a docstring. I have created a new class'''\n",
    "    pass"
   ]
  },
  {
   "cell_type": "markdown",
   "metadata": {},
   "source": [
    "- A class creates a new local namespace where all its attributes are defined. Attributes may be data or functions.\n",
    "\n",
    "- As soon as we define a class, a new class object is created with the same name. This class object allows us to access the different attributes as well as to instantiate new objects of that class."
   ]
  },
  {
   "cell_type": "code",
   "execution_count": 6,
   "metadata": {
    "collapsed": false
   },
   "outputs": [
    {
     "name": "stdout",
     "output_type": "stream",
     "text": [
      "50\n",
      "<function Myclass.func at 0x7f14486812f0>\n",
      "This is demo class\n"
     ]
    }
   ],
   "source": [
    "class Myclass:\n",
    "    '''This is demo class'''\n",
    "    a = 50\n",
    "    def func(self):\n",
    "        print ('Hello Students')\n",
    "print(Myclass.a)\n",
    "print(Myclass.func)\n",
    "print(Myclass.__doc__)"
   ]
  },
  {
   "cell_type": "markdown",
   "metadata": {},
   "source": [
    "# Creating an Object in Python"
   ]
  },
  {
   "cell_type": "markdown",
   "metadata": {},
   "source": [
    "##### The procedure to create an object is similar to a <font color = \"red\">function call</font>.\n",
    "\n",
    "         ob = MyClass()\n",
    "\n",
    "<b>\n",
    "- This will create a new instance object named ob. We can access attributes of objects using the object name prefix.\n",
    "- Attributes may be data or method.\n",
    "- Method of an object are corresponding functions of that class.\n",
    "- Any function object that is a class attribute defines a method for objects of that class.\n",
    " - This means to say, since MyClass.func is a function object (attribute of class), ob.func will be a method object"
   ]
  },
  {
   "cell_type": "code",
   "execution_count": 12,
   "metadata": {
    "collapsed": false
   },
   "outputs": [
    {
     "name": "stdout",
     "output_type": "stream",
     "text": [
      "50\n",
      "Hello Students\n"
     ]
    }
   ],
   "source": [
    "class MyClass:\n",
    "    '''This is demo class'''\n",
    "    a = 50\n",
    "    def func(self):\n",
    "        print('Hello Students')\n",
    "        \n",
    "ob = MyClass()\n",
    "\n",
    "print(ob.a)\n",
    "\n",
    "ob.func()\n"
   ]
  },
  {
   "cell_type": "markdown",
   "metadata": {
    "collapsed": true
   },
   "source": [
    "<b>\n",
    "- You may have noticed the self parameter in function definition inside the class but, we called the method simply as ob.func() without any arguments. It still worked.\n",
    "\n",
    "- This is because, whenever an object calls its method, the object itself is passed as the first argument. So, ob.func() translates into MyClass.func(ob).\n",
    "\n",
    "- In general, calling a method with a list of n arguments is equivalent to calling the corresponding function with an argument list that is created by inserting the method's object before the first argument.\n",
    "\n",
    "- For these reasons, the first argument of the function in class must be the object itself. This is conventionally called self. It can be named otherwise but we highly recommend to follow the convention.\n",
    "</b>"
   ]
  },
  {
   "cell_type": "code",
   "execution_count": null,
   "metadata": {
    "collapsed": true
   },
   "outputs": [],
   "source": []
  }
 ],
 "metadata": {
  "anaconda-cloud": {},
  "kernelspec": {
   "display_name": "Python [default]",
   "language": "python",
   "name": "python3"
  },
  "language_info": {
   "codemirror_mode": {
    "name": "ipython",
    "version": 3
   },
   "file_extension": ".py",
   "mimetype": "text/x-python",
   "name": "python",
   "nbconvert_exporter": "python",
   "pygments_lexer": "ipython3",
   "version": "3.5.2"
  }
 },
 "nbformat": 4,
 "nbformat_minor": 1
}
