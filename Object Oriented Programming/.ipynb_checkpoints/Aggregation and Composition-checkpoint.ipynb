{
 "cells": [
  {
   "cell_type": "markdown",
   "metadata": {},
   "source": [
    "# Aggregation\n",
    "\n"
   ]
  },
  {
   "cell_type": "markdown",
   "metadata": {},
   "source": [
    "- If the link between two objects is weaker, and neither object has exclusive ownership of the other, it can be called aggregation.\n",
    "\n",
    "- Class B forms an aggregation relationship with Class A, as it references an independent A object when initialized, as one of its attributes. While a B object is dependent on A, in the event of B's destruction, a will continue to exist as it is independent of B."
   ]
  },
  {
   "cell_type": "code",
   "execution_count": 2,
   "metadata": {
    "collapsed": false
   },
   "outputs": [
    {
     "name": "stdout",
     "output_type": "stream",
     "text": [
      "22\n"
     ]
    }
   ],
   "source": [
    "class A(object):\n",
    "    def __init__(self, a, b, c):\n",
    "        self.a = a\n",
    "        self.b = b\n",
    "        self.c = c\n",
    "\n",
    "    def addNums():\n",
    "        self.b + self.c\n",
    "\n",
    "class B(object):\n",
    "    def __init__(self, d, e, A):\n",
    "        self.d = d\n",
    "        self.e = e\n",
    "        self.A = A\n",
    "\n",
    "    def addAllNums(self):\n",
    "        x = self.d + self.e + self.A.b + self.A.c\n",
    "        return x\n",
    "\n",
    "Obj_A = A(\"Class A\", 2, 6)\n",
    "Obj_B = B(5, 9, Obj_A)\n",
    "\n",
    "print (Obj_B.addAllNums())"
   ]
  },
  {
   "cell_type": "markdown",
   "metadata": {},
   "source": [
    "# Composition"
   ]
  },
  {
   "cell_type": "markdown",
   "metadata": {},
   "source": [
    "- Composition is a way of aggregating objects together by making some objects attributes of other objects. \n",
    "- According to some formal definitions the term composition implies that the two objects are quite **strongly linked** – one object can be thought of as belonging **exclusively** to the other object. If the owner object ceases to exist, the owned object will probably cease to exist as well."
   ]
  },
  {
   "cell_type": "code",
   "execution_count": 5,
   "metadata": {
    "collapsed": false
   },
   "outputs": [
    {
     "name": "stdout",
     "output_type": "stream",
     "text": [
      "22\n"
     ]
    }
   ],
   "source": [
    "class A(object):\n",
    "    def __init__(self, a, b, c):\n",
    "        self.a = a\n",
    "        self.b = b\n",
    "        self.c = c\n",
    "\n",
    "    def addNums():\n",
    "        self.b + self.c\n",
    "\n",
    "class B(object):\n",
    "    def __init__(self, d, e):\n",
    "        self.d = d\n",
    "        self.e = e\n",
    "        self.A = A(\"Class A\", 2, 6)\n",
    "\n",
    "    def addAllNums(self):\n",
    "        x = self.d + self.e + self.A.b + self.A.c\n",
    "        return x\n",
    "\n",
    "Obj_B = B(5, 9)\n",
    "\n",
    "print (Obj_B.addAllNums())"
   ]
  },
  {
   "cell_type": "markdown",
   "metadata": {},
   "source": [
    "### Much like aggregation, however rather than referencing an independent object, B actually initializes an instance of A in it's own constructor as an attribute. If the B object is destroyed then so too is the A object. This is why composition is such a strong relationship."
   ]
  },
  {
   "cell_type": "code",
   "execution_count": null,
   "metadata": {
    "collapsed": true
   },
   "outputs": [],
   "source": []
  }
 ],
 "metadata": {
  "kernelspec": {
   "display_name": "Python [default]",
   "language": "python",
   "name": "python3"
  },
  "language_info": {
   "codemirror_mode": {
    "name": "ipython",
    "version": 3
   },
   "file_extension": ".py",
   "mimetype": "text/x-python",
   "name": "python",
   "nbconvert_exporter": "python",
   "pygments_lexer": "ipython3",
   "version": "3.5.2"
  }
 },
 "nbformat": 4,
 "nbformat_minor": 1
}
