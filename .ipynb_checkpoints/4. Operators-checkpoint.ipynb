{
 "cells": [
  {
   "cell_type": "markdown",
   "metadata": {},
   "source": [
    "# Python Operators"
   ]
  },
  {
   "cell_type": "markdown",
   "metadata": {},
   "source": [
    "Operators are special symbols in Python that carry out arithmetic or logical computation. The value that the operator operates on is called the operand.\n",
    "\n",
    "For Example:\n"
   ]
  },
  {
   "cell_type": "code",
   "execution_count": 24,
   "metadata": {
    "collapsed": false
   },
   "outputs": [
    {
     "data": {
      "text/plain": [
       "5"
      ]
     },
     "execution_count": 24,
     "metadata": {},
     "output_type": "execute_result"
    }
   ],
   "source": [
    "2 + 3"
   ]
  },
  {
   "cell_type": "markdown",
   "metadata": {},
   "source": [
    "*Here, <font color=red>+</font> is the operator that performs addition. <font color=red>2</font> and <font color=red>3</font> are the operands and <font color=red>5</font> is the output of the operation.*\n",
    "\n"
   ]
  },
  {
   "cell_type": "markdown",
   "metadata": {},
   "source": [
    "## Operator Type\n",
    "1. Arithmetic operators\n",
    "2. Comparison (Relational) operators\n",
    "3. Logical (Boolean) operators\n",
    "4. Bitwise operators\n",
    "5. Assignment operators\n",
    "6. Special operators\n"
   ]
  },
  {
   "cell_type": "markdown",
   "metadata": {},
   "source": [
    "## 1. Arithmetic operators\n",
    "Arithmetic operators are used to perform mathematical operations like addition, subtraction, multiplication etc."
   ]
  },
  {
   "cell_type": "markdown",
   "metadata": {},
   "source": [
    "| Operator      | Meaning       | \n",
    "|:-------------:|:-------------:| \n",
    "|     +         | Add two operands or unary plus |\n",
    "|- |Subtract right operand from the left or unary minus|\n",
    "|*|Multiply two operands|\n",
    "|/|Divide left operand by the right one (always results into float)\t|\n",
    "|%|Modulus - remainder of the division of left operand by the right|\n",
    "|//|Floor division - division that results into whole number adjusted to the left in the number line|\n",
    "|**|Exponent - left operand raised to the power of right|\n"
   ]
  },
  {
   "cell_type": "markdown",
   "metadata": {},
   "source": [
    "##### Example:"
   ]
  },
  {
   "cell_type": "code",
   "execution_count": 25,
   "metadata": {
    "collapsed": false
   },
   "outputs": [
    {
     "name": "stdout",
     "output_type": "stream",
     "text": [
      "30\n"
     ]
    }
   ],
   "source": [
    "x, y = 10, 20\n",
    "#addition(+)\n",
    "print(x + y )\n",
    "#subtracton(-)\n",
    "\n",
    "#multiplication(*)\n",
    "\n",
    "#division(/)\n",
    "\n",
    "#modulo division(%)\n",
    "\n",
    "#Floor division(//)\n",
    "\n",
    "#Exponent(**)\n",
    "\n"
   ]
  },
  {
   "cell_type": "markdown",
   "metadata": {},
   "source": [
    "## 2. Comparison operators\n",
    "Comparison operators are used to compare values. It either returns <font color=red>True or False</font> according to the condition."
   ]
  },
  {
   "cell_type": "markdown",
   "metadata": {},
   "source": [
    "| Operator      | Meaning       | \n",
    "|:-------------:|:-------------:| \n",
    "|>|\tGreater that - True if left operand is greater than the right|\n",
    "|<|\tLess that - True if left operand is less than the right\t|\n",
    "|==\t|Equal to - True if both operands are equal\t|\n",
    "|!=|Not equal to - True if operands are not equal|\n",
    "|>=|Greater than or equal to - True if left operand is greater than or equal to the right|\n",
    "|<=|Less than or equal to - True if left operand is less than or equal to the right|\n",
    "\n",
    "#### Example:"
   ]
  },
  {
   "cell_type": "code",
   "execution_count": 26,
   "metadata": {
    "collapsed": false
   },
   "outputs": [
    {
     "data": {
      "text/plain": [
       "True"
      ]
     },
     "execution_count": 26,
     "metadata": {},
     "output_type": "execute_result"
    }
   ],
   "source": [
    "a, b = 10, 20\n",
    "\n",
    "#check a is less than b\n",
    "a < b\n",
    "#check a is greater than b\n",
    "\n",
    "#check a is equal to b\n",
    "\n",
    "#check a is not equal to b(!=)\n",
    "\n",
    "#check a is greater than or equal to b\n",
    "\n",
    "#check a is less than or equal to b\n",
    "\n"
   ]
  },
  {
   "cell_type": "markdown",
   "metadata": {},
   "source": [
    "## 3. Logical Operators\n",
    "Logical operators are the <font color=red>and, or, not</font> operators.\n",
    "\n",
    "| Operator      | Meaning       | \n",
    "|:-------------:|:-------------:| \n",
    "|and|True if both the operands are true|\n",
    "|or|True if either of the operands is true|\n",
    "|not\t|True if operand is false (complements the operand)|\n",
    "\n",
    "#### Example:"
   ]
  },
  {
   "cell_type": "code",
   "execution_count": 27,
   "metadata": {
    "collapsed": false
   },
   "outputs": [],
   "source": [
    "a, b = True, False\n",
    "\n",
    "#print(a and b)\n",
    "#print(a or b)\n",
    "#print(not b)"
   ]
  },
  {
   "cell_type": "markdown",
   "metadata": {},
   "source": [
    "## 4. Bitwise operators\n",
    "Bitwise operators act on operands as if they were <font color=red>string of binary digits</font>. It operates <font color=red>bit by bit</font>, hence the name.\n",
    "\n",
    "\n",
    "\n",
    "| Operator      | Meaning       | \n",
    "|:-------------:|:-------------:| \n",
    "|&\t|Bitwise AND|\n",
    "||\tBitwise OR|\n",
    "|~\t|Bitwise NOT|\n",
    "|^\t|Bitwise XOR|\n",
    "|>>|\tBitwise right shift|\n",
    "|<<|\tBitwise left shift|\n",
    "\n",
    "#### Example:"
   ]
  },
  {
   "cell_type": "code",
   "execution_count": 28,
   "metadata": {
    "collapsed": true
   },
   "outputs": [],
   "source": [
    "a, b = 10,4\n",
    "#Bitwise AND\n",
    "\n",
    "#Bitwise OR\n",
    "\n",
    "#Bitwise NOT\n",
    "\n",
    "#Bitwise XOR\n",
    "\n",
    "#Bitwise RightShift\n",
    "\n",
    "#Bitwise LeftShift"
   ]
  },
  {
   "cell_type": "markdown",
   "metadata": {},
   "source": [
    "## 5. Assignment Operators\n",
    "\n",
    "Assignment operators are used in Python to assign values to variables.\n",
    "\n",
    "#### <font color=red> -, +=, -=, *=, /=, %=, //=, **=, &=, |=, >>=, <<= </font>   are Assignment Operator \n",
    "\n"
   ]
  },
  {
   "cell_type": "code",
   "execution_count": 29,
   "metadata": {
    "collapsed": true
   },
   "outputs": [],
   "source": [
    "a = 10\n",
    "\n",
    "#Add AND(+=)\n",
    "\n",
    "#Multiply AND(*=)\n",
    "\n",
    "#Divide AND(/=)\n",
    "\n",
    "#Modulus AND(%=)\n",
    "\n",
    "#Floor Division AND(//=)\n",
    "\n",
    "#Exponent AND(**=)\n",
    "\n"
   ]
  },
  {
   "cell_type": "markdown",
   "metadata": {},
   "source": [
    "## 6. Special Operators\n"
   ]
  },
  {
   "cell_type": "markdown",
   "metadata": {},
   "source": [
    "### - Identity Operator\n",
    "<font color=Red>is</font> and <font color=red>is not</font> are the identity operators in Python. They are used to check if two values (or variables) are located on the same part of the memory. Two variables that are equal does not imply that they are identical.\n",
    "\n",
    "| Operator      | Meaning       | \n",
    "|:-------------:|:-------------:| \n",
    "|is\tTrue| if the operands are identical (refer to the same object)|\n",
    "|is not\t| True if the operands are not identical (do not refer to the same object)|\n",
    "\n",
    "#### Example:\n"
   ]
  },
  {
   "cell_type": "code",
   "execution_count": 33,
   "metadata": {
    "collapsed": false
   },
   "outputs": [
    {
     "data": {
      "text/plain": [
       "True"
      ]
     },
     "execution_count": 33,
     "metadata": {},
     "output_type": "execute_result"
    }
   ],
   "source": [
    "x= 5;y=5\n",
    "x is y"
   ]
  },
  {
   "cell_type": "markdown",
   "metadata": {},
   "source": [
    "### - Membership Operators\n",
    "<font color=red>in</font> and <font color=red>not in</font> are the membership operators in Python. They are used to test whether a value or variable is found in a sequence (string, list, tuple, set and dictionary).\n",
    "\n",
    "| Operator      | Meaning       | \n",
    "|:-------------:|:-------------:| \n",
    "|in\t|True if value/variable is found in the sequence|\n",
    "|not in\t|True if value/variable is not found in the sequence|\n",
    "\n",
    "\n",
    "#### Example:\n"
   ]
  },
  {
   "cell_type": "code",
   "execution_count": 31,
   "metadata": {
    "collapsed": false
   },
   "outputs": [
    {
     "data": {
      "text/plain": [
       "True"
      ]
     },
     "execution_count": 31,
     "metadata": {},
     "output_type": "execute_result"
    }
   ],
   "source": [
    "l = ['a','e','i','o','u']\n",
    "j = 'e'\n",
    "j in l"
   ]
  },
  {
   "cell_type": "code",
   "execution_count": null,
   "metadata": {
    "collapsed": true
   },
   "outputs": [],
   "source": []
  }
 ],
 "metadata": {
  "anaconda-cloud": {},
  "kernelspec": {
   "display_name": "Python [default]",
   "language": "python",
   "name": "python3"
  },
  "language_info": {
   "codemirror_mode": {
    "name": "ipython",
    "version": 3
   },
   "file_extension": ".py",
   "mimetype": "text/x-python",
   "name": "python",
   "nbconvert_exporter": "python",
   "pygments_lexer": "ipython3",
   "version": "3.5.2"
  }
 },
 "nbformat": 4,
 "nbformat_minor": 1
}
