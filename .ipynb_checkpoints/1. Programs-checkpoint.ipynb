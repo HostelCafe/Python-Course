{
 "cells": [
  {
   "cell_type": "markdown",
   "metadata": {},
   "source": [
    "# RCS454: PYTHON LANGUAGE PROGRAMMING LAB"
   ]
  },
  {
   "cell_type": "markdown",
   "metadata": {},
   "source": [
    "## Write a Python program to: -"
   ]
  },
  {
   "cell_type": "markdown",
   "metadata": {},
   "source": [
    "### 1. Demonstrate the working of ‘id’ and ‘type’ functions"
   ]
  },
  {
   "cell_type": "markdown",
   "metadata": {},
   "source": [
    "#### id(object)\n",
    "- Return the <font color = red>“identity”</font> of an object. This is an integer which is guaranteed to be unique and constant for this object during its lifetime. <font color = red>Two objects with non-overlapping lifetimes may have the same id() value</font>."
   ]
  },
  {
   "cell_type": "code",
   "execution_count": 10,
   "metadata": {
    "collapsed": false,
    "scrolled": true
   },
   "outputs": [
    {
     "name": "stdout",
     "output_type": "stream",
     "text": [
      "id of a is : 140588920634176\n",
      "id of b is : 140588920634176\n",
      "id of c is : 140588828625800\n",
      "id of d is : 140588921966752\n",
      "id of e is : 140588709101256\n",
      "id of e[0] is : 140588922341112\n"
     ]
    }
   ],
   "source": [
    "a = 10\n",
    "b = 10\n",
    "c = 10.5\n",
    "d = \"abc\"\n",
    "e = [10,20,30,40,50]\n",
    "print(\"id of a is :\",id(a))\n",
    "print(\"id of b is :\",id(b))\n",
    "print(\"id of c is :\",id(c))\n",
    "print(\"id of d is :\",id(d))\n",
    "print(\"id of e is :\",id(e))\n",
    "print(\"id of e[0] is :\",id(d[2]))"
   ]
  },
  {
   "cell_type": "markdown",
   "metadata": {},
   "source": [
    "#### type(object)\n",
    "- If a single argument (object) is passed to type() built-in, it returns type of the given object."
   ]
  },
  {
   "cell_type": "code",
   "execution_count": 12,
   "metadata": {
    "collapsed": false
   },
   "outputs": [
    {
     "name": "stdout",
     "output_type": "stream",
     "text": [
      "<class 'list'>\n"
     ]
    }
   ],
   "source": [
    "numberList = [1, 2]\n",
    "print(type(numberList))"
   ]
  },
  {
   "cell_type": "code",
   "execution_count": 13,
   "metadata": {
    "collapsed": false
   },
   "outputs": [
    {
     "name": "stdout",
     "output_type": "stream",
     "text": [
      "<class 'dict'>\n"
     ]
    }
   ],
   "source": [
    "numberDict = {1: 'one', 2: 'two'}\n",
    "print(type(numberDict))"
   ]
  },
  {
   "cell_type": "code",
   "execution_count": 14,
   "metadata": {
    "collapsed": false
   },
   "outputs": [
    {
     "name": "stdout",
     "output_type": "stream",
     "text": [
      "<class '__main__.Foo'>\n"
     ]
    }
   ],
   "source": [
    "class Foo:\n",
    "    a = 0\n",
    "\n",
    "InstanceOfFoo = Foo()\n",
    "print(type(InstanceOfFoo))"
   ]
  },
  {
   "cell_type": "markdown",
   "metadata": {},
   "source": [
    "### 2. To find all prime numbers within a given range.\n",
    "- A prime number (or a prime) is a natural number <font color=red>greater than 1</font> that has <font color=red>no positive divisors other than 1 and itself</font>."
   ]
  },
  {
   "cell_type": "code",
   "execution_count": 31,
   "metadata": {
    "collapsed": false
   },
   "outputs": [
    {
     "name": "stdout",
     "output_type": "stream",
     "text": [
      "Prime numbers between 1 and 1000 are:\n",
      "2,3,5,7,11,13,17,19,23,29,31,37,41,43,47,53,59,61,67,71,73,79,83,89,97,101,103,107,109,113,127,131,137,139,149,151,157,163,167,173,179,181,191,193,197,199,211,223,227,229,233,239,241,251,257,263,269,271,277,281,283,293,307,311,313,317,331,337,347,349,353,359,367,373,379,383,389,397,401,409,419,421,431,433,439,443,449,457,461,463,467,479,487,491,499,503,509,521,523,541,547,557,563,569,571,577,587,593,599,601,607,613,617,619,631,641,643,647,653,659,661,673,677,683,691,701,709,719,727,733,739,743,751,757,761,769,773,787,797,809,811,821,823,827,829,839,853,857,859,863,877,881,883,887,907,911,919,929,937,941,947,953,967,971,977,983,991,997,"
     ]
    }
   ],
   "source": [
    "# Python program to display all the prime numbers within an interval\n",
    "# change the values of lower and upper for a different result\n",
    "\n",
    "lower = 1\n",
    "upper = 1000\n",
    "\n",
    "print(\"Prime numbers between\",lower,\"and\",upper,\"are:\")\n",
    "\n",
    "for num in range(lower,upper + 1):         #outer loop to traverse the given range\n",
    "   # prime numbers are greater than 1\n",
    "   if num > 1:\n",
    "       for i in range(2,num):   #inner loop to check the divisor of particular traversed number\n",
    "           if (num % i) == 0:             \n",
    "               break\n",
    "       else:\n",
    "           print(num,end=',')       #if we remove end=',' then numbers are seperated by line"
   ]
  },
  {
   "cell_type": "markdown",
   "metadata": {},
   "source": [
    "### 3. To print ‘n terms of Fibonacci series using iteration."
   ]
  },
  {
   "cell_type": "markdown",
   "metadata": {},
   "source": [
    "A Fibonacci sequence is the integer sequence of 0, 1, 1, 2, 3, 5, 8....\n",
    "\n",
    "The first two terms are 0 and 1. All other terms are obtained by adding the preceding two terms. This means to say the nth term is the sum of (n-1)th and (n-2)th term."
   ]
  },
  {
   "cell_type": "code",
   "execution_count": 35,
   "metadata": {
    "collapsed": false
   },
   "outputs": [
    {
     "name": "stdout",
     "output_type": "stream",
     "text": [
      "Fibonacci sequence upto 10 :\n",
      "0 , 1 , 1 , 2 , 3 , 5 , 8 , 13 , 21 , 34 , "
     ]
    }
   ],
   "source": [
    "# Program to display the Fibonacci sequence up to n-th term where n is provided by the user\n",
    "\n",
    "# change this value for a different result\n",
    "nterms = 10\n",
    "\n",
    "## uncomment below line to take input from the user\n",
    "#nterms = int(input(\"How many terms? \"))\n",
    "\n",
    "# first two terms\n",
    "n1 = 0\n",
    "n2 = 1\n",
    "count = 0\n",
    "\n",
    "# check if the number of terms is valid\n",
    "if nterms <= 0:\n",
    "   print(\"Please enter a positive integer\")\n",
    "elif nterms == 1:\n",
    "   print(\"Fibonacci sequence upto\",nterms,\":\")\n",
    "   print(n1)\n",
    "else:\n",
    "   print(\"Fibonacci sequence upto\",nterms,\":\")\n",
    "   while count < nterms:\n",
    "       print(n1,end=' , ')\n",
    "       nth = n1 + n2\n",
    "       # update values\n",
    "       n1 = n2\n",
    "       n2 = nth\n",
    "       count += 1"
   ]
  },
  {
   "cell_type": "code",
   "execution_count": 38,
   "metadata": {
    "collapsed": false
   },
   "outputs": [
    {
     "name": "stdout",
     "output_type": "stream",
     "text": [
      "21\n"
     ]
    }
   ],
   "source": [
    "#To find particullar term\n",
    "def fib(n):\n",
    " a,b = 1,1\n",
    " for i in range(n-1):\n",
    "  a,b = b,a+b\n",
    " return a\n",
    "print (fib(8))"
   ]
  },
  {
   "cell_type": "code",
   "execution_count": null,
   "metadata": {
    "collapsed": true
   },
   "outputs": [],
   "source": []
  }
 ],
 "metadata": {
  "anaconda-cloud": {},
  "kernelspec": {
   "display_name": "Python [default]",
   "language": "python",
   "name": "python3"
  },
  "language_info": {
   "codemirror_mode": {
    "name": "ipython",
    "version": 3
   },
   "file_extension": ".py",
   "mimetype": "text/x-python",
   "name": "python",
   "nbconvert_exporter": "python",
   "pygments_lexer": "ipython3",
   "version": "3.5.2"
  }
 },
 "nbformat": 4,
 "nbformat_minor": 1
}
