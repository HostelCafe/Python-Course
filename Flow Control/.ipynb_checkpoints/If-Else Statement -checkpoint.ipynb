{
 "cells": [
  {
   "cell_type": "markdown",
   "metadata": {},
   "source": [
    "# Python if...else Statement"
   ]
  },
  {
   "cell_type": "markdown",
   "metadata": {},
   "source": [
    "- Decision making is required when we want to execute a code only if a certain condition is satisfied.\n",
    "- The <font color= \"Red\">if…elif…else</font> statement is used in Python for decision making."
   ]
  },
  {
   "cell_type": "markdown",
   "metadata": {},
   "source": [
    "## Python if Statement "
   ]
  },
  {
   "cell_type": "markdown",
   "metadata": {},
   "source": [
    "  #### Syntax:  \n",
    "    \n",
    "    if test expression:\n",
    "        statement(s)"
   ]
  },
  {
   "cell_type": "markdown",
   "metadata": {},
   "source": [
    "- Here, the program evaluates the test expression and will execute statement(s) only if the text expression is True.\n",
    "- If the text expression is False, the statement(s) is not executed.\n",
    "- In Python, the body of the if statement is indicated by the indentation. Body starts with an indentation and the first unindented line marks the end.\n",
    "- Python interprets non-zero values as <font color= \"red\">True</font>. <font color= \"red\">None</font> and <font color= \"red\">0</font> are interpreted as False.\n",
    "### If Flow Chart\n",
    " ![](https://cdn.programiz.com/sites/tutorial2program/files/Python_if_statement.jpg)\n",
    " \n",
    "#### Example: Python if Statement"
   ]
  },
  {
   "cell_type": "code",
   "execution_count": 1,
   "metadata": {
    "collapsed": false
   },
   "outputs": [
    {
     "name": "stdout",
     "output_type": "stream",
     "text": [
      "3 is a positive number.\n",
      "This is always printed.\n",
      "This is also always printed.\n"
     ]
    }
   ],
   "source": [
    "num = 3\n",
    "if num > 0:\n",
    "    print(num, \"is a positive number.\")\n",
    "print(\"This is always printed.\")\n",
    "\n",
    "num = -1\n",
    "if num > 0:\n",
    "    print(num, \"is a positive number.\")\n",
    "print(\"This is also always printed.\")"
   ]
  },
  {
   "cell_type": "markdown",
   "metadata": {},
   "source": [
    "- In the above example, num > 0 is the test expression.\n",
    "- The body of if is executed only if this evaluates to True.\n",
    "- When variable num is equal to 3, test expression is true and body inside body of if is executed.\n",
    "- If variable num is equal to -1, test expression is false and body inside body of if is skipped.\n",
    "- The print() statement falls outside of the if block (unindented). Hence, it is executed regardless of the test expression.\n",
    "\n"
   ]
  },
  {
   "cell_type": "markdown",
   "metadata": {},
   "source": [
    "## Python if...else Statement"
   ]
  },
  {
   "cell_type": "markdown",
   "metadata": {},
   "source": [
    "#### Syntax:\n",
    "\n",
    "    if test expression:\n",
    "        Body of if\n",
    "    else:\n",
    "        Body of else\n",
    "        \n",
    "       \n",
    "- The if..else statement evaluates test expression and will execute body of if only when test condition is True.\n",
    "- If the condition is False, body of else is executed. Indentation is used to separate the blocks.\n",
    "\n",
    "#### Python if..else Flowchart\n",
    "![](https://cdn.programiz.com/sites/tutorial2program/files/Python_if_else_statement.jpg)\n",
    "\n",
    "\n",
    "### Example of if...else\n"
   ]
  },
  {
   "cell_type": "code",
   "execution_count": 2,
   "metadata": {
    "collapsed": false
   },
   "outputs": [
    {
     "name": "stdout",
     "output_type": "stream",
     "text": [
      "Positive or Zero\n"
     ]
    }
   ],
   "source": [
    "# Program checks if the number is positive or negative\n",
    "# And displays an appropriate message\n",
    "\n",
    "num = 3\n",
    "\n",
    "# Try these two variations as well. \n",
    "# num = -5\n",
    "# num = 0\n",
    "\n",
    "if num >= 0:\n",
    "    print(\"Positive or Zero\")\n",
    "else:\n",
    "    print(\"Negative number\")"
   ]
  },
  {
   "cell_type": "markdown",
   "metadata": {},
   "source": [
    "- In the above example, when num is equal to 3, the test expression is true and body of if is executed and body of else is skipped.\n",
    "- If num is equal to -5, the test expression is false and body of else is executed and body of if is skipped.\n",
    "- If num is equal to 0, the test expression is true and body of if is executed and body of else is skipped."
   ]
  },
  {
   "cell_type": "markdown",
   "metadata": {},
   "source": [
    "## Python if...elif...else"
   ]
  },
  {
   "cell_type": "markdown",
   "metadata": {},
   "source": [
    "#### Syntax :\n",
    "\n",
    "    if test expression:\n",
    "        Body of if\n",
    "    elif test expression:\n",
    "        Body of elif\n",
    "    else: \n",
    "        Body of else   \n",
    "        \n",
    "- The <font color= red>elif</font> is short for <font color= red>else if</font>. It allows us to check for multiple expressions.\n",
    "- If the condition for if is <font color= red>False</font>, it checks the condition of the next <font color= red>elif</font> block and so on.\n",
    "- If all the conditions are <font color= red>False</font>, body of <font color= red>else</font> is executed.\n",
    "- Only one block among the several <font color= red>if...elif...else</font> blocks is executed according to the condition.\n",
    "- The <font color= red>if</font> block can have only one <font color= red>else</font> block. But it can have multiple <font color= red>elif</font> blocks.\n",
    "\n",
    "#### Flowchart of if...elif...else:\n",
    "![](https://cdn.programiz.com/sites/tutorial2program/files/Python_if_elif_else_statement.jpg)\n",
    "\n",
    "#### Example of if...elif...else\n"
   ]
  },
  {
   "cell_type": "code",
   "execution_count": 3,
   "metadata": {
    "collapsed": false
   },
   "outputs": [
    {
     "name": "stdout",
     "output_type": "stream",
     "text": [
      "Positive number\n"
     ]
    }
   ],
   "source": [
    "# In this program, \n",
    "# we check if the number is positive or\n",
    "# negative or zero and \n",
    "# display an appropriate message\n",
    "\n",
    "num = 3.4\n",
    "\n",
    "# Try these two variations as well:\n",
    "# num = 0\n",
    "# num = -4.5\n",
    "\n",
    "if num > 0:\n",
    "    print(\"Positive number\")\n",
    "elif num == 0:\n",
    "    print(\"Zero\")\n",
    "else:\n",
    "    print(\"Negative number\")"
   ]
  },
  {
   "cell_type": "markdown",
   "metadata": {},
   "source": [
    "- When variable <font color =\"blue\">num</font> is positive, Positive number is printed.\n",
    "\n",
    "- If num is equal to 0, Zero is printed.\n",
    "\n",
    "- If num is negative, Negative number is printed"
   ]
  },
  {
   "cell_type": "markdown",
   "metadata": {},
   "source": [
    "# Python Nested if Statements"
   ]
  },
  {
   "cell_type": "markdown",
   "metadata": {},
   "source": [
    "- We can have a <font color = \"red\">if...elif...else</font> statement inside another <font color = \"red\">if...elif...else</font> statement. This is called nesting in computer programming.\n",
    "\n",
    "- Any number of these statements can be nested inside one another. Indentation is the only way to figure out the level of nesting. This can get confusing, so must be avoided if we can."
   ]
  },
  {
   "cell_type": "code",
   "execution_count": 6,
   "metadata": {
    "collapsed": false
   },
   "outputs": [
    {
     "name": "stdout",
     "output_type": "stream",
     "text": [
      "Enter a number: 0\n",
      "Zero\n"
     ]
    }
   ],
   "source": [
    "# In this program, we input a number\n",
    "# check if the number is positive or\n",
    "# negative or zero and display\n",
    "# an appropriate message\n",
    "# This time we use nested if\n",
    "\n",
    "num = float(input(\"Enter a number: \"))\n",
    "if num >= 0:\n",
    "    if num == 0:\n",
    "        print(\"Zero\")\n",
    "    else:\n",
    "        print(\"Positive number\")\n",
    "else:\n",
    "    print(\"Negative number\")"
   ]
  },
  {
   "cell_type": "code",
   "execution_count": null,
   "metadata": {
    "collapsed": true
   },
   "outputs": [],
   "source": []
  }
 ],
 "metadata": {
  "anaconda-cloud": {},
  "kernelspec": {
   "display_name": "Python [default]",
   "language": "python",
   "name": "python3"
  },
  "language_info": {
   "codemirror_mode": {
    "name": "ipython",
    "version": 3
   },
   "file_extension": ".py",
   "mimetype": "text/x-python",
   "name": "python",
   "nbconvert_exporter": "python",
   "pygments_lexer": "ipython3",
   "version": "3.5.2"
  }
 },
 "nbformat": 4,
 "nbformat_minor": 1
}
