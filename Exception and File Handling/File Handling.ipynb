{
 "cells": [
  {
   "cell_type": "markdown",
   "metadata": {},
   "source": [
    "# WHAT IS A FILE?"
   ]
  },
  {
   "cell_type": "markdown",
   "metadata": {},
   "source": [
    "File is named location on disk to store related information.It is used to permanently store data in a non-valatile memory(e.g. hard disk)."
   ]
  },
  {
   "cell_type": "markdown",
   "metadata": {},
   "source": [
    "# FILES IN PYTHON"
   ]
  },
  {
   "cell_type": "markdown",
   "metadata": {},
   "source": [
    "When we want to read from a file or write to a file we need to open it first. When we are done, it needs to be closed, so that resources that are tied with the file are freed.\n",
    "\n",
    "Hence, in Python, following file operation are availabe.\n",
    "   1. Open a file\n",
    "   2. Read or Write (perform operation)\n",
    "   3. Close the file"
   ]
  },
  {
   "cell_type": "markdown",
   "metadata": {},
   "source": [
    "## OPEN A FILE"
   ]
  },
  {
   "cell_type": "markdown",
   "metadata": {},
   "source": [
    "Built-in function **open()** is used to open a file in Python, that returns a file object, also called a handle, as it is used to read or modify the file accordingly."
   ]
  },
  {
   "cell_type": "code",
   "execution_count": 5,
   "metadata": {
    "collapsed": false
   },
   "outputs": [],
   "source": [
    "f = open(\"hcafe.txt\") #open file in current directory"
   ]
  },
  {
   "cell_type": "code",
   "execution_count": 6,
   "metadata": {
    "collapsed": true
   },
   "outputs": [],
   "source": [
    "f = open(\"/home/anurag/Lms_Python_Course/Exception and File Handling/hcafe.txt\") # specifying full path"
   ]
  },
  {
   "cell_type": "markdown",
   "metadata": {},
   "source": [
    "## PYTHON FILE MODES"
   ]
  },
  {
   "cell_type": "markdown",
   "metadata": {},
   "source": [
    "We can specify the mode while opening a file. For example we specify whether we want to read 'r', write 'w' or append 'a' to the file.\n",
    "We also specify if we want to open a file in text mode or binary mode.\n",
    "- **TEXT MODE** : It is the default reading mode.In this mode, we get strings when reading from files.\n",
    "- **BINARY MODE** : Binary mode returns bytes and this is the mode to be used when dealing with non-text files like image or exe files.\n",
    "\n",
    "| Mode      | Description      | \n",
    "|:-------------:|:-------------:| \n",
    "|'r'|\t    Open a file for reading. (default)|\n",
    "|'w'\t|    Open a file for writing. Creates a new      file if it does not exist or truncates the file if it exists.|\n",
    " |'x'|Open a file for exclusive creation. If the  file already exists, the operation fails.|\n",
    " |'a'|Open for appending at the end of the file         without truncating it. Creates a new file if it does not exist.|\n",
    "| 't'|Open in text mode. (default)|\n",
    "|'b'|    Open in binary mode.|\n",
    "|'+'| Open a file for updating (reading and             writing)|"
   ]
  },
  {
   "cell_type": "code",
   "execution_count": 7,
   "metadata": {
    "collapsed": true
   },
   "outputs": [],
   "source": [
    "f = open(\"hcafe.txt\")      # equivalent to 'r' "
   ]
  },
  {
   "cell_type": "code",
   "execution_count": 8,
   "metadata": {
    "collapsed": true
   },
   "outputs": [],
   "source": [
    "f = open(\"hcafe.txt\",'w')  # write in text mode"
   ]
  },
  {
   "cell_type": "code",
   "execution_count": 9,
   "metadata": {
    "collapsed": true
   },
   "outputs": [],
   "source": [
    "f = open(\"hcafe.txt\",'r+b') # read and write in binary mode"
   ]
  },
  {
   "cell_type": "markdown",
   "metadata": {},
   "source": [
    "**when working with files in text mode, it is highly recommended to specify the encoding type.**"
   ]
  },
  {
   "cell_type": "code",
   "execution_count": 10,
   "metadata": {
    "collapsed": true
   },
   "outputs": [],
   "source": [
    "f = open(\"hcafe.txt\", mode = 'r', encoding= 'utf-8')"
   ]
  },
  {
   "cell_type": "markdown",
   "metadata": {},
   "source": [
    "# CLOSE A FILE : "
   ]
  },
  {
   "cell_type": "markdown",
   "metadata": {},
   "source": [
    "Closing a file will free up the resources that were tied with the file and is done using Python **close()** method.\n",
    "\n",
    "Python has a garbage collector to clean up unreferenced objects but, we must not rely on it to close the file."
   ]
  },
  {
   "cell_type": "code",
   "execution_count": 11,
   "metadata": {
    "collapsed": true
   },
   "outputs": [],
   "source": [
    "f = open(\"hcafe.txt\", encoding = 'utf-8')\n",
    "# perform some file operations\n",
    "f.close()"
   ]
  },
  {
   "cell_type": "markdown",
   "metadata": {},
   "source": [
    "The best way to close a file is using the with **statement**. This ensures that the file is closed when the block inside with is exited.\n",
    "\n",
    "We don't need to explicitly call the **close()** method. It is done **internally**."
   ]
  },
  {
   "cell_type": "code",
   "execution_count": 14,
   "metadata": {
    "collapsed": false
   },
   "outputs": [
    {
     "name": "stdout",
     "output_type": "stream",
     "text": [
      "<_io.TextIOWrapper name='hcafe.txt' mode='r' encoding='utf-8'>\n"
     ]
    }
   ],
   "source": [
    "with open(\"hcafe.txt\",encoding = 'utf-8') as f:\n",
    "    print (f)\n",
    "    # perform file operations"
   ]
  },
  {
   "cell_type": "markdown",
   "metadata": {},
   "source": [
    "## WRITE TO A FILE IN PYTHON : "
   ]
  },
  {
   "cell_type": "markdown",
   "metadata": {},
   "source": [
    "In order to write into a file in Python, we need to open it in write **'w'**, append **'a'** or exclusive creation **'x'** mode.\n",
    "\n",
    "Writing a string or sequence of bytes (for binary files) is done using **write()** method. This method returns the number of characters written to the file."
   ]
  },
  {
   "cell_type": "code",
   "execution_count": 15,
   "metadata": {
    "collapsed": true
   },
   "outputs": [],
   "source": [
    "with open(\"hcafe.txt\", 'w', encoding = 'utf-8') as f:\n",
    "        f.write(\"These are the lecture notes of file handling in python\\n\")\n",
    "        f.write(\"hope you would like it\\n\")\n",
    "        f.write(\"thank you\\n\")"
   ]
  },
  {
   "cell_type": "markdown",
   "metadata": {},
   "source": [
    "**We must include the newline characters ourselves to distinguish different lines.**"
   ]
  },
  {
   "cell_type": "markdown",
   "metadata": {},
   "source": [
    "## READ FILES IN PYTHON :"
   ]
  },
  {
   "cell_type": "markdown",
   "metadata": {},
   "source": [
    "To read a file in Python, we must open the file in reading mode.\n",
    "    \n",
    "We can use the read(size) method to read, where size parameter tells that the number of data(characters) we want to read from file.\n",
    "\n",
    "If size is not specified, it reads and returns up to the end of the file."
   ]
  },
  {
   "cell_type": "code",
   "execution_count": 17,
   "metadata": {
    "collapsed": false
   },
   "outputs": [
    {
     "data": {
      "text/plain": [
       "'These'"
      ]
     },
     "execution_count": 17,
     "metadata": {},
     "output_type": "execute_result"
    }
   ],
   "source": [
    "f = open(\"hcafe.txt\",'r',encoding = 'utf-8')\n",
    "f.read(5)"
   ]
  },
  {
   "cell_type": "code",
   "execution_count": 18,
   "metadata": {
    "collapsed": false
   },
   "outputs": [
    {
     "data": {
      "text/plain": [
       "' are'"
      ]
     },
     "execution_count": 18,
     "metadata": {},
     "output_type": "execute_result"
    }
   ],
   "source": [
    "f.read(4)    # read the next 6 data ' are'"
   ]
  },
  {
   "cell_type": "code",
   "execution_count": 19,
   "metadata": {
    "collapsed": false
   },
   "outputs": [
    {
     "data": {
      "text/plain": [
       "' the lecture notes of file handling in python\\nhope you would like it\\nthank you\\n'"
      ]
     },
     "execution_count": 19,
     "metadata": {},
     "output_type": "execute_result"
    }
   ],
   "source": [
    "f.read()     # read in the rest till end of file"
   ]
  },
  {
   "cell_type": "code",
   "execution_count": 20,
   "metadata": {
    "collapsed": false
   },
   "outputs": [
    {
     "data": {
      "text/plain": [
       "''"
      ]
     },
     "execution_count": 20,
     "metadata": {},
     "output_type": "execute_result"
    }
   ],
   "source": [
    "f.read()  # further reading returns empty sting"
   ]
  },
  {
   "cell_type": "code",
   "execution_count": null,
   "metadata": {
    "collapsed": true
   },
   "outputs": [],
   "source": []
  }
 ],
 "metadata": {
  "anaconda-cloud": {},
  "kernelspec": {
   "display_name": "Python [default]",
   "language": "python",
   "name": "python3"
  },
  "language_info": {
   "codemirror_mode": {
    "name": "ipython",
    "version": 3
   },
   "file_extension": ".py",
   "mimetype": "text/x-python",
   "name": "python",
   "nbconvert_exporter": "python",
   "pygments_lexer": "ipython3",
   "version": "3.5.2"
  }
 },
 "nbformat": 4,
 "nbformat_minor": 1
}
