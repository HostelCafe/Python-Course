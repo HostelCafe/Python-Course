{
 "cells": [
  {
   "cell_type": "markdown",
   "metadata": {},
   "source": [
    "# Type Conversion"
   ]
  },
  {
   "cell_type": "markdown",
   "metadata": {},
   "source": [
    "- Sometimes it's necessary to perform conversions between the built-in types. \n",
    "- To convert between types you simply use the type name as a function. \n",
    "- In addition, several built-in functions are supplied to perform special kinds of conversions. All of these functions return a new object representing the converted value."
   ]
  },
  {
   "cell_type": "markdown",
   "metadata": {},
   "source": [
    "\n",
    "| Function      | Description      | \n",
    "|:-------------:|:-------------:| \n",
    "|     int(x [,base])        | Converts x to an integer. base specifies the base if x is a string. |\n",
    "|long(x [,base] )|Converts x to a long integer. base specifies the base if x is a string.|\n",
    "|float(x)|Converts x to a floating-point number.|\n",
    "|complex(real [,imag])|Creates a complex number.|\n",
    "|str(x)|Converts object x to a string representation.|\n",
    "|eval(str)|Evaluates a string and returns an object.|\n",
    "|tuple(s)|Converts s to a tuple.|\n",
    "|list(s)|Converts s to a list.|\n",
    "|set(s)|Converts s to a set.|\n",
    "|dict(d)|Creates a dictionary. d must be a sequence of (key,value) tuples.|\n",
    "|frozenset(s)|Converts s to a frozen set.|\n",
    "|hex(x)|Converts an integer to a hexadecimal string.|\n",
    "|oct(x)|Converts an integer to an octal string.|\n"
   ]
  },
  {
   "cell_type": "code",
   "execution_count": null,
   "metadata": {
    "collapsed": false
   },
   "outputs": [],
   "source": []
  },
  {
   "cell_type": "code",
   "execution_count": null,
   "metadata": {
    "collapsed": true
   },
   "outputs": [],
   "source": []
  }
 ],
 "metadata": {
  "anaconda-cloud": {},
  "kernelspec": {
   "display_name": "Python [default]",
   "language": "python",
   "name": "python3"
  },
  "language_info": {
   "codemirror_mode": {
    "name": "ipython",
    "version": 3
   },
   "file_extension": ".py",
   "mimetype": "text/x-python",
   "name": "python",
   "nbconvert_exporter": "python",
   "pygments_lexer": "ipython3",
   "version": "3.5.2"
  }
 },
 "nbformat": 4,
 "nbformat_minor": 1
}
