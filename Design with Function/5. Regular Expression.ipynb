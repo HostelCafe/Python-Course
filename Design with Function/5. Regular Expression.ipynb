{
 "cells": [
  {
   "cell_type": "markdown",
   "metadata": {},
   "source": [
    "# Regular Expression"
   ]
  },
  {
   "cell_type": "markdown",
   "metadata": {},
   "source": [
    "<b> A regular expression is a special sequence of characters that helps you <font color = \"Red\">match</font> or <font color = \"Red\">find</font> other strings or sets of strings, using a specialized syntax held in a pattern.</b> "
   ]
  },
  {
   "cell_type": "markdown",
   "metadata": {},
   "source": [
    "- The Module <b><font color =\"red\" >re</font></b> provides full support for Regular Expression in Python.\n",
    "- The re module raises the exception re.error if an error occurs while compiling or using a regular expression."
   ]
  },
  {
   "cell_type": "markdown",
   "metadata": {},
   "source": [
    "We would cover two important functions, which would be used to handle regular expressions.They are:\n",
    "<b>\n",
    "1. match Function\n",
    "2. search Function"
   ]
  },
  {
   "cell_type": "markdown",
   "metadata": {},
   "source": [
    "## Basic patterns that match single chars"
   ]
  },
  {
   "cell_type": "markdown",
   "metadata": {},
   "source": [
    "| Expression And Matches      | Meaning       | \n",
    "|:-------------:|:-------------:| \n",
    "|a, X, 9, <|ordinary characters just match themselves exactly.|\n",
    "|. (a period)|matches any single character except newline '\\n'|\n",
    "|\\w|matches a \"word\" character: a letter or digit or underbar [a-zA-Z0-9_].|\n",
    "|\\W|matches any non-word character.|\n",
    "|\\b|boundary between word and non-word.|\n",
    "|\\s|matches a single whitespace character -- space, newline, return, tab|\n",
    "|\\S|matches any non-whitespace character.|\n",
    "|\\t, \\n, \\r|tab, newline, return|\t\n",
    "|\\d|decimal digit [0-9]|\n",
    "|^|matches start of the string.|\t\n",
    "|$|match the end of the string.|\n",
    "|\\|inhibit the \"specialness\" of a character.|"
   ]
  },
  {
   "cell_type": "markdown",
   "metadata": {},
   "source": [
    "## The match Function"
   ]
  },
  {
   "cell_type": "markdown",
   "metadata": {},
   "source": [
    "- This function attempts to match RE pattern to string with optional flags.\n",
    "<b><br>\n",
    "Here is Syntax:\n",
    "\n",
    "       re.match(pattern, string, flags = 0)\n",
    "        \n",
    "</b>         "
   ]
  },
  {
   "cell_type": "markdown",
   "metadata": {},
   "source": [
    "Here is the description of parameters: \n",
    "#### 1. pattern\n",
    "     - This is the regular expression to be matched.\n",
    "#### 2. string\n",
    "     - This is the string, which would be searched to match the pattern at the beginning of string.\n",
    "#### 3. flags\n",
    "     - You can specify different flags using bitwise OR (|). These are modifiers, which are listed in the table below.\n",
    "\n"
   ]
  },
  {
   "cell_type": "markdown",
   "metadata": {
    "collapsed": true
   },
   "source": [
    "The <font color = \"red\">re.match</font> function returns a <font color = \"red\">match object</font> on success, <font color = \"red\">None</font> on failure. We <font color = \"red\">usegroup(num)</font> or <font color = \"red\">groups()</font> function of match object to get matched expression.\n",
    "#### group(num = 0)\n",
    "   - This method returns entire match (or specific subgroup num)\n",
    "\t\n",
    "#### groups()\n",
    "- This method returns all matching subgroups in a tuple (empty if there weren't any)\n",
    "\n",
    "### Example:"
   ]
  },
  {
   "cell_type": "code",
   "execution_count": 49,
   "metadata": {
    "collapsed": false
   },
   "outputs": [
    {
     "name": "stdout",
     "output_type": "stream",
     "text": [
      "('A quick Brown Fox Jumps', 'A')\n",
      "matchObj(0) is : A quick Brown Fox Jumps Over A lazy Dog\n",
      "matchObj(1) is : A quick Brown Fox Jumps\n",
      "matchObj(2) is : A\n"
     ]
    }
   ],
   "source": [
    "import re \n",
    "line = \"A quick Brown Fox Jumps Over A lazy Dog\"\n",
    "matchObj = re.match( r'(.*) over (.*?) .*', line, re.M|re.I)\n",
    "if matchObj:\n",
    "    print(matchObj.groups())\n",
    "    print(\"matchObj(0) is :\",matchObj.group(0))\n",
    "    print(\"matchObj(1) is :\",matchObj.group(1))\n",
    "    print(\"matchObj(2) is :\",matchObj.group(2))\n",
    "else:\n",
    "   print (\"Nothing found!!\")"
   ]
  },
  {
   "cell_type": "markdown",
   "metadata": {},
   "source": [
    "## The search Function"
   ]
  },
  {
   "cell_type": "markdown",
   "metadata": {},
   "source": [
    " - This function attempts to match RE pattern to string with optional flags.\n",
    " \n",
    " ##### Syntax:\n",
    "             re.match(pattern, string, flags = 0)\n",
    "\n"
   ]
  },
  {
   "cell_type": "code",
   "execution_count": 45,
   "metadata": {
    "collapsed": false
   },
   "outputs": [
    {
     "name": "stdout",
     "output_type": "stream",
     "text": [
      "searchObj.groups() :  ('A quick Brown Fox', 'Over')\n",
      "searchObj.group() :  A quick Brown Fox Jumps Over A lazy Dog\n",
      "searchObj.group(1) :  A quick Brown Fox\n",
      "searchObj.group(2) :  Over\n"
     ]
    }
   ],
   "source": [
    "import re\n",
    "\n",
    "line = \"A quick Brown Fox Jumps Over A lazy Dog\"\n",
    "\n",
    "searchObj = re.search( r'(.*) Jumps (.*?) .*', line, re.M|re.I)\n",
    "\n",
    "if searchObj:\n",
    "   print (\"searchObj.groups() : \", searchObj.groups())\n",
    "   print (\"searchObj.group() : \", searchObj.group())\n",
    "   print (\"searchObj.group(1) : \", searchObj.group(1))\n",
    "   print (\"searchObj.group(2) : \", searchObj.group(2))\n",
    "else:\n",
    "   print (\"Nothing found!!\")"
   ]
  },
  {
   "cell_type": "markdown",
   "metadata": {},
   "source": [
    "## Matching Versus Searching\n",
    "Python offers two different primitive operations based on regular expressions: match checks for a match only at the beginning of the string, while search checks for a match anywhere in the string (this is what Perl does by default)."
   ]
  },
  {
   "cell_type": "code",
   "execution_count": 44,
   "metadata": {
    "collapsed": false
   },
   "outputs": [
    {
     "name": "stdout",
     "output_type": "stream",
     "text": [
      "No match!!\n",
      "Python\n"
     ]
    }
   ],
   "source": [
    "import re\n",
    "\n",
    "line = \"Welcome to Python course\";\n",
    "\n",
    "matchObj = re.match( r'Python', line, re.M|re.I)\n",
    "if matchObj:\n",
    "   print (matchObj.group())\n",
    "else:\n",
    "   print (\"No match!!\")\n",
    "\n",
    "searchObj = re.search( r'Python', line, re.M|re.I)\n",
    "if searchObj:\n",
    "   print (searchObj.group())\n",
    "else:\n",
    "   print (\"Nothing found!!\")\n"
   ]
  },
  {
   "cell_type": "markdown",
   "metadata": {},
   "source": [
    "## Search and Replace"
   ]
  },
  {
   "cell_type": "markdown",
   "metadata": {},
   "source": [
    "One of the most important re methods that use regular expressions is sub.\n",
    "\n",
    "#### Syntax :\n",
    "\n",
    "          re.sub(pattern, repl, string, max=0)\n",
    "\n",
    "This method replaces all occurrences of the RE pattern in string with repl, substituting all occurrences unless max is provided. This method returns modified string.     \n",
    "\n"
   ]
  },
  {
   "cell_type": "code",
   "execution_count": 48,
   "metadata": {
    "collapsed": false
   },
   "outputs": [
    {
     "name": "stdout",
     "output_type": "stream",
     "text": [
      "String is :  Welcome to Python course\n"
     ]
    }
   ],
   "source": [
    "#replace C with python\n",
    "string= \"Welcome to C course\"\n",
    "num = re.sub(r'C', \"Python\", string)    \n",
    "print (\"String is : \", num)"
   ]
  },
  {
   "cell_type": "code",
   "execution_count": 47,
   "metadata": {
    "collapsed": false
   },
   "outputs": [
    {
     "name": "stdout",
     "output_type": "stream",
     "text": [
      "Phone Num :  9566696666\n"
     ]
    }
   ],
   "source": [
    "# Remove anything other than digits\n",
    "phone= \"for any enquiry please contact 95666-9556666\"\n",
    "num = re.sub(r'\\D', \"\", phone)    \n",
    "print (\"Phone Num : \", num)"
   ]
  },
  {
   "cell_type": "markdown",
   "metadata": {},
   "source": [
    "## Regular Expression Modifiers: Option Flags"
   ]
  },
  {
   "cell_type": "markdown",
   "metadata": {},
   "source": [
    "|Modifier       | Description   | \n",
    "|:-------------:|:-------------:| \n",
    "|re.I|Performs case-insensitive matching.|\n",
    "|re.L|Interprets words according to the current locale. This interpretation affects the alphabetic group (\\w and \\W), as well as word boundary behavior (\\b and \\B).|\n",
    "|re.M|Makes $ match the end of a line (not just the end of the string) and makes ^ match the start of any line (not just the start of the string).|\n",
    "|re.S|Makes a period (dot) match any character, including a newline.|\n",
    "|re.U|Interprets letters according to the Unicode character set. This flag affects the behavior of \\w, \\W, \\b, \\B.|\n",
    "|re.X|Permits \"cuter\" regular expression syntax. It ignores whitespace (except inside a set [ ] or when escaped by a backslash) and treats unescaped # as a comment marker.|"
   ]
  },
  {
   "cell_type": "markdown",
   "metadata": {},
   "source": [
    "## Regular Expression Patterns"
   ]
  },
  {
   "cell_type": "markdown",
   "metadata": {},
   "source": [
    "<b>\n",
    "Except for the control characters, <font color=\"red\">(+ ? . * ^ $ ( ) [ ] { } | \\)</font>, all characters match themselves. You can escape a control character by preceding it with a backslash.\n",
    "</b>\n"
   ]
  },
  {
   "cell_type": "markdown",
   "metadata": {},
   "source": [
    "### Character Classes"
   ]
  },
  {
   "cell_type": "code",
   "execution_count": 3,
   "metadata": {
    "collapsed": false
   },
   "outputs": [
    {
     "data": {
      "text/plain": [
       "['Dog']"
      ]
     },
     "execution_count": 3,
     "metadata": {},
     "output_type": "execute_result"
    }
   ],
   "source": [
    "import re\n",
    "string = \"A quick brown fox jumps over a lazy Dog.\"\n",
    "re.findall('Dog',string) #Match \"Dog\""
   ]
  },
  {
   "cell_type": "code",
   "execution_count": 17,
   "metadata": {
    "collapsed": false
   },
   "outputs": [
    {
     "name": "stdout",
     "output_type": "stream",
     "text": [
      "['Dog']\n",
      "['dog']\n"
     ]
    }
   ],
   "source": [
    "# match \"Dog\" or \"dog\"\n",
    "print(re.findall('[dD]og',string)) \n",
    "string = \"A quick brown fox jumps over a lazy dog.\"\n",
    "print(re.findall('[dD]og',string))"
   ]
  },
  {
   "cell_type": "code",
   "execution_count": 32,
   "metadata": {
    "collapsed": false
   },
   "outputs": [
    {
     "name": "stdout",
     "output_type": "stream",
     "text": [
      "['u', 'i', 'o', 'o', 'u', 'o', 'e', 'a', 'a', 'o']\n",
      "['A', ' ', 'q', 'c', 'k', ' ', 'b', 'r', 'w', 'n', ' ', 'f', 'x', ' ', 'j', 'm', 'p', 's', ' ', 'v', 'r', ' ', ' ', 'l', 'z', 'y', ' ', 'D', 'g', '.']\n"
     ]
    }
   ],
   "source": [
    "#Match any one lowercase vowel\n",
    "string = \"A quick brown fox jumps over a lazy Dog.\"\n",
    "print(re.findall(r'[aeiou]',string))\n",
    "\n",
    "#Match anything other than a lowercase vowel\n",
    "print(re.findall(r'[^aeiou]',string))"
   ]
  },
  {
   "cell_type": "code",
   "execution_count": 34,
   "metadata": {
    "collapsed": false
   },
   "outputs": [
    {
     "name": "stdout",
     "output_type": "stream",
     "text": [
      "['4', '6', '4']\n",
      "['64']\n",
      "['c', 'u', 'b', 'e', ' ', 'o', 'f', ' ', ' ', 'i', 's', ' ']\n"
     ]
    }
   ],
   "source": [
    "#Match any digit; \n",
    "string = \"cube of 4 is 64\"\n",
    "print(re.findall(r'[0-9]',string))  #same as [0123456789]\n",
    "print(re.findall(r'[0-9][0-9]',string)) #consecutive occurence of two digit\n",
    "\n",
    "#Match anything other than a digit\n",
    "print(re.findall(r'[^0-9]',string))"
   ]
  },
  {
   "cell_type": "code",
   "execution_count": 28,
   "metadata": {
    "collapsed": false
   },
   "outputs": [
    {
     "name": "stdout",
     "output_type": "stream",
     "text": [
      "['q', 'u', 'i', 'c', 'k', 'b', 'r', 'o', 'w', 'n', 'f', 'o', 'x', 'j', 'u', 'm', 'p', 's', 'o', 'v', 'e', 'r', 'a', 'l', 'a', 'z', 'y', 'o', 'g']\n",
      "['A', 'D']\n"
     ]
    }
   ],
   "source": [
    "string = \"A quick brown fox jumps over a lazy Dog.\"\n",
    "print(re.findall(r'[a-z]',string)) #Match any lowercase ASCII letter\n",
    "print(re.findall(r'[A-Z]',string )) #Match any uppercase ASCII letter"
   ]
  },
  {
   "cell_type": "code",
   "execution_count": 31,
   "metadata": {
    "collapsed": false
   },
   "outputs": [
    {
     "name": "stdout",
     "output_type": "stream",
     "text": [
      "['p', 'h', 'o', 'n', 'e', 'i', 's', 'i', 'n', 'd', '9', '2', '5', '0', '1', '4', '4', '4']\n"
     ]
    }
   ],
   "source": [
    "#Match any of the above\n",
    "string = \"phone is: ind/#92501444\"\n",
    "print(re.findall(r'[a-zA-Z0-9]',string))\n"
   ]
  },
  {
   "cell_type": "markdown",
   "metadata": {},
   "source": [
    "# Program to extract out Name and Age from String"
   ]
  },
  {
   "cell_type": "code",
   "execution_count": 44,
   "metadata": {
    "collapsed": false
   },
   "outputs": [
    {
     "name": "stdout",
     "output_type": "stream",
     "text": [
      "{'Ram': '10', 'Mohan': '12', 'Manish': '15', 'Sooraj': '5'}\n"
     ]
    }
   ],
   "source": [
    "import re\n",
    "\n",
    "NameAge = ''' Ram is 10 and he is fond of listening music\n",
    "              Mohan is 12 and he loves to play cricket\n",
    "              Manish is 15 and he is studious\n",
    "              Sooraj is 5 and yongest among all.'''\n",
    "\n",
    "ages = re.findall(r'\\d{1,3}',NameAge)\n",
    "names = re.findall(r'[A-Z][a-z]*',NameAge)\n",
    "\n",
    "agedict = dict(zip(names, ages))\n",
    "print(agedict)"
   ]
  },
  {
   "cell_type": "markdown",
   "metadata": {},
   "source": [
    "# Filter Email"
   ]
  },
  {
   "cell_type": "code",
   "execution_count": 60,
   "metadata": {
    "collapsed": false
   },
   "outputs": [
    {
     "name": "stdout",
     "output_type": "stream",
     "text": [
      "Number of Valid Email Address are: 2\n",
      "Valid Email Address are : ['abc@gmail.com', 'pqr21@yahoo.com']\n"
     ]
    }
   ],
   "source": [
    "import re\n",
    "email = \"abc@gmail.com ab.com hi.com py@.com pqr21@yahoo.com \"\n",
    "matches = re.findall(r'[\\w._%+-]{1,20}@[\\w]{2,20}.[A-Za-z]{2,3}',email)\n",
    "print(\"Number of Valid Email Address are:\", len(matches))\n",
    "print(\"Valid Email Address are :\", matches)"
   ]
  },
  {
   "cell_type": "code",
   "execution_count": null,
   "metadata": {
    "collapsed": true
   },
   "outputs": [],
   "source": []
  }
 ],
 "metadata": {
  "anaconda-cloud": {},
  "kernelspec": {
   "display_name": "Python [default]",
   "language": "python",
   "name": "python3"
  },
  "language_info": {
   "codemirror_mode": {
    "name": "ipython",
    "version": 3
   },
   "file_extension": ".py",
   "mimetype": "text/x-python",
   "name": "python",
   "nbconvert_exporter": "python",
   "pygments_lexer": "ipython3",
   "version": "3.5.2"
  }
 },
 "nbformat": 4,
 "nbformat_minor": 1
}
