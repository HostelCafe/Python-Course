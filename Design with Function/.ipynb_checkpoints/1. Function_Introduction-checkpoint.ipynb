{
 "cells": [
  {
   "cell_type": "markdown",
   "metadata": {},
   "source": [
    "# Python Functions"
   ]
  },
  {
   "cell_type": "markdown",
   "metadata": {},
   "source": [
    "- In Python, function is a group of related statements that perform a specific task.\n",
    "\n",
    "- Help break our program into smaller and modular chunks. As our program grows larger and larger, functions make it more organized and manageable.\n",
    "\n",
    "- Furthermore, it avoids repetition and makes code reusable.\n",
    "\n",
    "## Syntax:\n",
    "          def function_name(parameters):\n",
    "              \"\"\"docstring\"\"\"\n",
    "              statement(s)\n",
    "       \t\n",
    "        \n",
    "#### Above shown is a function definition which consists of following components.\n",
    "1. Keyword <font color = \"Red\">def</font> marks the start of function header.\n",
    "2. Parameters (arguments) through which we pass values to a function. They are optional.\n",
    "3. A colon (<font color = \"Red\">:</font>) to mark the end of function header.\n",
    "4. Optional documentation string (docstring) to describe what the function does.\n",
    "5. One or more valid python statements that make up the function body. Statements must have same indentation level (usually 4 spaces).\n",
    "6. An optional <font color = \"Red\">return</font> statement to return a value from the function.\n",
    "\n",
    "### Example:"
   ]
  },
  {
   "cell_type": "code",
   "execution_count": 1,
   "metadata": {
    "collapsed": true
   },
   "outputs": [],
   "source": [
    "def print_name(name):\n",
    "    \"\"\" \n",
    "    This function prints the name\n",
    "    \"\"\"\n",
    "    print(\"Hello \" + str(name)) \n",
    "    "
   ]
  },
  {
   "cell_type": "markdown",
   "metadata": {},
   "source": [
    "## Function Call\n",
    "- Once we have defined a function, we can call it from another function, program or even the Python prompt.\n",
    "- To call a function we simply type the function name with appropriate parameters."
   ]
  },
  {
   "cell_type": "code",
   "execution_count": 2,
   "metadata": {
    "collapsed": false
   },
   "outputs": [
    {
     "name": "stdout",
     "output_type": "stream",
     "text": [
      "Hello Students\n"
     ]
    }
   ],
   "source": [
    "print_name(\"Students\")"
   ]
  },
  {
   "cell_type": "code",
   "execution_count": null,
   "metadata": {
    "collapsed": true
   },
   "outputs": [],
   "source": []
  }
 ],
 "metadata": {
  "anaconda-cloud": {},
  "kernelspec": {
   "display_name": "Python [default]",
   "language": "python",
   "name": "python3"
  },
  "language_info": {
   "codemirror_mode": {
    "name": "ipython",
    "version": 3
   },
   "file_extension": ".py",
   "mimetype": "text/x-python",
   "name": "python",
   "nbconvert_exporter": "python",
   "pygments_lexer": "ipython3",
   "version": "3.5.2"
  }
 },
 "nbformat": 4,
 "nbformat_minor": 1
}
